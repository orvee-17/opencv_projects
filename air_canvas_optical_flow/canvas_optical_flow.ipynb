{
 "cells": [
  {
   "cell_type": "markdown",
   "metadata": {},
   "source": [
    "### Air Canvas using Optical Flow"
   ]
  },
  {
   "cell_type": "code",
   "execution_count": 32,
   "metadata": {},
   "outputs": [
    {
     "ename": "KeyboardInterrupt",
     "evalue": "",
     "output_type": "error",
     "traceback": [
      "\u001b[1;31m---------------------------------------------------------------------------\u001b[0m",
      "\u001b[1;31mKeyboardInterrupt\u001b[0m                         Traceback (most recent call last)",
      "\u001b[1;32m<ipython-input-32-4e6f353af021>\u001b[0m in \u001b[0;36m<module>\u001b[1;34m\u001b[0m\n\u001b[0;32m     36\u001b[0m \u001b[1;33m\u001b[0m\u001b[0m\n\u001b[0;32m     37\u001b[0m \u001b[1;32mwhile\u001b[0m \u001b[1;32mTrue\u001b[0m\u001b[1;33m:\u001b[0m\u001b[1;33m\u001b[0m\u001b[1;33m\u001b[0m\u001b[0m\n\u001b[1;32m---> 38\u001b[1;33m     \u001b[0m_\u001b[0m\u001b[1;33m,\u001b[0m \u001b[0mnew_inp_img\u001b[0m \u001b[1;33m=\u001b[0m \u001b[0mcap\u001b[0m\u001b[1;33m.\u001b[0m\u001b[0mread\u001b[0m\u001b[1;33m(\u001b[0m\u001b[1;33m)\u001b[0m\u001b[1;33m\u001b[0m\u001b[1;33m\u001b[0m\u001b[0m\n\u001b[0m\u001b[0;32m     39\u001b[0m     \u001b[0mnew_inp_img\u001b[0m \u001b[1;33m=\u001b[0m \u001b[0mcv2\u001b[0m\u001b[1;33m.\u001b[0m\u001b[0mflip\u001b[0m\u001b[1;33m(\u001b[0m\u001b[0mnew_inp_img\u001b[0m\u001b[1;33m,\u001b[0m \u001b[1;36m1\u001b[0m\u001b[1;33m)\u001b[0m\u001b[1;33m\u001b[0m\u001b[1;33m\u001b[0m\u001b[0m\n\u001b[0;32m     40\u001b[0m     \u001b[0mnew_gray\u001b[0m \u001b[1;33m=\u001b[0m \u001b[0mcv2\u001b[0m\u001b[1;33m.\u001b[0m\u001b[0mcvtColor\u001b[0m\u001b[1;33m(\u001b[0m\u001b[0mnew_inp_img\u001b[0m\u001b[1;33m,\u001b[0m \u001b[0mcv2\u001b[0m\u001b[1;33m.\u001b[0m\u001b[0mCOLOR_BGR2GRAY\u001b[0m\u001b[1;33m)\u001b[0m\u001b[1;33m\u001b[0m\u001b[1;33m\u001b[0m\u001b[0m\n",
      "\u001b[1;31mKeyboardInterrupt\u001b[0m: "
     ]
    }
   ],
   "source": [
    "import cv2\n",
    "import numpy as np\n",
    "\n",
    "x,y,k = 200,200,-1\n",
    "\n",
    "cap = cv2.VideoCapture(0)\n",
    "\n",
    "def input_point_func(event, x1, y1, flag, param):\n",
    "    global x, y, k\n",
    "    if event == cv2.EVENT_LBUTTONDOWN:\n",
    "        x = x1\n",
    "        y = y1\n",
    "        k = 1\n",
    "\n",
    "cv2.namedWindow(\"enter_point\")\n",
    "cv2.setMouseCallback(\"enter_point\", input_point_func)\n",
    "\n",
    "#Taking the input\n",
    "while True:  \n",
    "    _, inp_img = cap.read()\n",
    "    inp_img = cv2.flip(inp_img, 1) #1 to flip image around X-axis\n",
    "    gray_inp_img = cv2.cvtColor(inp_img, cv2.COLOR_BGR2GRAY)\n",
    "    #gray_inp_img = cv2.goodFeaturesToTrack(gray_inp_img, mask = None, maxCorners = 100,qualityLevel = 0.3,minDistance = 7, blockSize = 7)\n",
    "    gray_inp_img.astype(np.float32)\n",
    "    cv2.imshow(\"enter_point\", inp_img)\n",
    "    if k == 1 or cv2.waitKey(30) == 27:\n",
    "        cv2.destroyAllWindows()\n",
    "        break  \n",
    "\n",
    "stp = 0\n",
    "\n",
    "#OPTICAL FLOW Using Lucas-Kanade method\n",
    "old_pts = np.array([[x, y]], dtype=np.float32).reshape(-1, 1, 2)\n",
    "# Create a mask image for drawing purposes\n",
    "mask = np.zeros_like(inp_img) \n",
    "\n",
    "while True:\n",
    "    _, new_inp_img = cap.read()\n",
    "    new_inp_img = cv2.flip(new_inp_img, 1)\n",
    "    new_gray = cv2.cvtColor(new_inp_img, cv2.COLOR_BGR2GRAY)\n",
    "    #new_gray = cv2.goodFeaturesToTrack(new_gray, mask = None, maxCorners = 100,qualityLevel = 0.3,minDistance = 7, blockSize = 7)\n",
    "    new_gray.astype(np.float32)\n",
    "    new_pts,status,err = cv2.calcOpticalFlowPyrLK(gray_inp_img, \n",
    "                         new_gray, \n",
    "                         old_pts, \n",
    "                         None, maxLevel=1,\n",
    "                         criteria=(cv2.TERM_CRITERIA_EPS | cv2.TERM_CRITERIA_COUNT, 10, 0.03))\n",
    "    \n",
    "#     new_pts = new_gray[status==1]\n",
    "#     old_pts = gray_inp_img[status==1]\n",
    "    #Draw the tracks\n",
    "    for i, j in zip(old_pts, new_pts):\n",
    "        x,y = j.ravel()\n",
    "        a,b = i.ravel()\n",
    "        if cv2.waitKey(2) & 0xff == ord('q'):\n",
    "            stp = 1          \n",
    "        elif cv2.waitKey(2) & 0xff == ord('w'):\n",
    "            stp = 0\n",
    "        elif cv2.waitKey(2) == ord('n'):\n",
    "            mask = np.zeros_like(new_inp_img)\n",
    "        if stp == 0:\n",
    "            mask = cv2.line(mask, (a,b), (x,y), (0,0,255), 6)\n",
    "        cv2.circle(new_inp_img, (x,y), 6, (0,255,0), -1)\n",
    "    new_inp_img = cv2.addWeighted(mask, 0.3, new_inp_img, 0.7, 0)\n",
    "    cv2.putText(mask, \"'q' = makes gap; 'w' = start; 'n' = clear\", (10,50), \n",
    "                cv2.FONT_HERSHEY_PLAIN, 2, (255,255,255))\n",
    "    cv2.imshow(\"ouput\", new_inp_img)\n",
    "    cv2.imshow(\"result\", mask)\n",
    "\n",
    "    \n",
    "    gray_inp_img = new_gray.copy()\n",
    "    old_pts = new_pts.reshape(-1,1,2)\n",
    "    \n",
    "    if cv2.waitKey(1) & 0xff == 27:\n",
    "        break\n",
    "cv2.destroyAllWindows()\n",
    "cap.release()"
   ]
  },
  {
   "cell_type": "code",
   "execution_count": 33,
   "metadata": {},
   "outputs": [],
   "source": [
    "cv2.destroyAllWindows()\n",
    "cap.release()"
   ]
  },
  {
   "cell_type": "code",
   "execution_count": null,
   "metadata": {},
   "outputs": [],
   "source": []
  }
 ],
 "metadata": {
  "kernelspec": {
   "display_name": "Python 3",
   "language": "python",
   "name": "python3"
  },
  "language_info": {
   "codemirror_mode": {
    "name": "ipython",
    "version": 3
   },
   "file_extension": ".py",
   "mimetype": "text/x-python",
   "name": "python",
   "nbconvert_exporter": "python",
   "pygments_lexer": "ipython3",
   "version": "3.7.6"
  }
 },
 "nbformat": 4,
 "nbformat_minor": 4
}
